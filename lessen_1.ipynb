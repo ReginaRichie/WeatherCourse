{
  "nbformat": 4,
  "nbformat_minor": 0,
  "metadata": {
    "colab": {
      "provenance": []
    },
    "kernelspec": {
      "name": "python3",
      "display_name": "Python 3"
    },
    "language_info": {
      "name": "python"
    }
  },
  "cells": [
    {
      "cell_type": "code",
      "execution_count": 1,
      "metadata": {
        "colab": {
          "base_uri": "https://localhost:8080/"
        },
        "id": "-prs1sVnx5YP",
        "outputId": "090c25d4-003e-4b04-bf02-fa92ee0333ae"
      },
      "outputs": [
        {
          "output_type": "stream",
          "name": "stdout",
          "text": [
            "Hello, world\n"
          ]
        }
      ],
      "source": [
        "print(\"Hello, world\")  # напишем \"Hello, world\"\n"
      ]
    },
    {
      "cell_type": "markdown",
      "source": [
        "### Неизменяемые переменные:"
      ],
      "metadata": {
        "id": "Qo145AYJyEBD"
      }
    },
    {
      "cell_type": "code",
      "source": [
        "# Числа\n",
        "x = int(1)\n",
        "print(x)  # напишем целое число 1\n",
        "\n",
        "x = float(1)\n",
        "print(x)  # напишем десятичное число 1.0\n"
      ],
      "metadata": {
        "colab": {
          "base_uri": "https://localhost:8080/"
        },
        "id": "riQUu15ox_h5",
        "outputId": "49b65153-e815-4784-e2ac-8989c4f1ab81"
      },
      "execution_count": 2,
      "outputs": [
        {
          "output_type": "stream",
          "name": "stdout",
          "text": [
            "1\n",
            "1.0\n"
          ]
        }
      ]
    },
    {
      "cell_type": "code",
      "source": [
        "# Булевы\n",
        "print(10 > 9)  # если выражение ложно, то вывелется False, иначе True\n",
        "print(True)  # просто выводем True\n"
      ],
      "metadata": {
        "colab": {
          "base_uri": "https://localhost:8080/"
        },
        "id": "AJKNxf4wx_o_",
        "outputId": "779f3e73-160f-479f-cdd5-a288de698f70"
      },
      "execution_count": 3,
      "outputs": [
        {
          "output_type": "stream",
          "name": "stdout",
          "text": [
            "True\n",
            "True\n"
          ]
        }
      ]
    },
    {
      "cell_type": "code",
      "source": [
        "# Строки\n",
        "x = str(\"s1\")\n",
        "print(x)  # напишем строку\n",
        "print(len(x))  # выведем длину строки\n"
      ],
      "metadata": {
        "colab": {
          "base_uri": "https://localhost:8080/"
        },
        "id": "zoiOqolxx_rg",
        "outputId": "d8efc122-36dc-4fba-b0e7-de30b2f516eb"
      },
      "execution_count": 11,
      "outputs": [
        {
          "output_type": "stream",
          "name": "stdout",
          "text": [
            "s1\n",
            "2\n"
          ]
        }
      ]
    },
    {
      "cell_type": "code",
      "source": [
        "# Кортежи\n",
        "x = tuple()\n",
        "print(x)  # напишем кортеж\n",
        "\n",
        "x = ('s',)\n",
        "print(x)  # напишем кортеж\n"
      ],
      "metadata": {
        "colab": {
          "base_uri": "https://localhost:8080/"
        },
        "id": "fA_LxC-ox_uH",
        "outputId": "7075fb13-3278-475a-f9b0-2eed8d945cf0"
      },
      "execution_count": 10,
      "outputs": [
        {
          "output_type": "stream",
          "name": "stdout",
          "text": [
            "()\n",
            "('s',)\n"
          ]
        }
      ]
    },
    {
      "cell_type": "markdown",
      "source": [
        "### Изменяемые переменные\n"
      ],
      "metadata": {
        "id": "J81-MR4YyNaO"
      }
    },
    {
      "cell_type": "code",
      "source": [
        "# Списки\n",
        "x = list('список')\n",
        "print(x)  # из строки сделаем список\n",
        "\n",
        "l = ['s', 'p', ['isok'], 2]\n",
        "print(x)  # зададим список их разных типов данных\n"
      ],
      "metadata": {
        "colab": {
          "base_uri": "https://localhost:8080/"
        },
        "id": "_tm4IoL1x_zh",
        "outputId": "38e4c7c1-2e2e-47bd-c350-7b26cc6a05a5"
      },
      "execution_count": 9,
      "outputs": [
        {
          "output_type": "stream",
          "name": "stdout",
          "text": [
            "['с', 'п', 'и', 'с', 'о', 'к']\n",
            "['с', 'п', 'и', 'с', 'о', 'к']\n"
          ]
        }
      ]
    },
    {
      "cell_type": "code",
      "source": [
        "# Словари\n",
        "d = {}\n",
        "print(d)  # создадим пустой словарь\n",
        "\n",
        "d = {'dict': 1, 'dictionary': 2}\n",
        "print(d)  # создадим словарь со значениями\n",
        "print(d['dict'])  # достанем значение по ключу dict\n"
      ],
      "metadata": {
        "colab": {
          "base_uri": "https://localhost:8080/"
        },
        "id": "JV5rSOhhx_2X",
        "outputId": "3b0c4765-256d-4b4b-f14c-3509bc400dc8"
      },
      "execution_count": 8,
      "outputs": [
        {
          "output_type": "stream",
          "name": "stdout",
          "text": [
            "{}\n",
            "{'dict': 1, 'dictionary': 2}\n",
            "1\n"
          ]
        }
      ]
    },
    {
      "cell_type": "code",
      "source": [
        "# Множества\n",
        "a = set()  # создадим пустое множество\n",
        "print(a)\n",
        "\n",
        "a = set('hello')  # создадим множество из слова hello\n",
        "print(a)\n"
      ],
      "metadata": {
        "colab": {
          "base_uri": "https://localhost:8080/"
        },
        "id": "88jClZOGyTc9",
        "outputId": "7901df6d-a303-46fe-8039-dc6fa33527db"
      },
      "execution_count": 7,
      "outputs": [
        {
          "output_type": "stream",
          "name": "stdout",
          "text": [
            "set()\n",
            "{'o', 'l', 'e', 'h'}\n"
          ]
        }
      ]
    },
    {
      "cell_type": "markdown",
      "source": [
        "### Условный оператор в Python\n"
      ],
      "metadata": {
        "id": "IWML2rKlyXdk"
      }
    },
    {
      "cell_type": "code",
      "source": [
        "# выведем условие, что если 3, тогда надо написать Привет 3\n",
        "if 3:\n",
        "    print(\"Привет 3\")\n"
      ],
      "metadata": {
        "colab": {
          "base_uri": "https://localhost:8080/"
        },
        "id": "f2sTAUywyTfW",
        "outputId": "3fc9ad8d-d877-48ae-b97d-aaf0fd72e7e9"
      },
      "execution_count": 6,
      "outputs": [
        {
          "output_type": "stream",
          "name": "stdout",
          "text": [
            "Привет 3\n"
          ]
        }
      ]
    },
    {
      "cell_type": "code",
      "source": [
        "# создаим переменную a, если она больше 3, тогда выведем true, в ином случае - false\n",
        "a = 2\n",
        "if a > 3:\n",
        "    print('true')\n",
        "else:\n",
        "    print('false')\n"
      ],
      "metadata": {
        "colab": {
          "base_uri": "https://localhost:8080/"
        },
        "id": "ARVHe-jjyTh2",
        "outputId": "a732e510-0e76-462a-cbcc-5a115251bb7b"
      },
      "execution_count": 5,
      "outputs": [
        {
          "output_type": "stream",
          "name": "stdout",
          "text": [
            "false\n"
          ]
        }
      ]
    },
    {
      "cell_type": "code",
      "source": [
        "# создаим переменную balance, рассмотрим условия, если значение больше или равно нулю, все остальные случаи\n",
        "balance = 10\n",
        "if balance < 0:\n",
        "    print(\"Баланс ниже нуля, положите деньги на счет, чтобы Вам не выписали штраф\")\n",
        "elif balance == 0:\n",
        "    print(\"Баланс равен нулю, скорее внесите деньги на счет\")\n",
        "else:\n",
        "    print(\"Ваш баланс выше нуля, все хорошо\")\n"
      ],
      "metadata": {
        "colab": {
          "base_uri": "https://localhost:8080/"
        },
        "id": "N594F7cuyTkN",
        "outputId": "b8080065-3922-456c-b5c6-89fcc6d8d653"
      },
      "execution_count": 4,
      "outputs": [
        {
          "output_type": "stream",
          "name": "stdout",
          "text": [
            "Ваш баланс выше нуля, все хорошо\n"
          ]
        }
      ]
    },
    {
      "cell_type": "code",
      "source": [],
      "metadata": {
        "id": "GfmOqYomyTmo"
      },
      "execution_count": null,
      "outputs": []
    },
    {
      "cell_type": "code",
      "source": [],
      "metadata": {
        "id": "f7jJR1xJyTo_"
      },
      "execution_count": null,
      "outputs": []
    }
  ]
}