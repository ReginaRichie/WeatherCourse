{
  "nbformat": 4,
  "nbformat_minor": 0,
  "metadata": {
    "colab": {
      "provenance": []
    },
    "kernelspec": {
      "name": "python3",
      "display_name": "Python 3"
    },
    "language_info": {
      "name": "python"
    }
  },
  "cells": [
    {
      "cell_type": "code",
      "source": [
        "# загрзим библиотеку\n",
        "!pip install pytelegrambotapi"
      ],
      "metadata": {
        "id": "6pnsnTT4F97s"
      },
      "execution_count": null,
      "outputs": []
    },
    {
      "cell_type": "code",
      "source": [],
      "metadata": {
        "id": "JBsv1jLrF9-u"
      },
      "execution_count": null,
      "outputs": []
    },
    {
      "cell_type": "code",
      "source": [
        "# создадим бота, который на команду старт пишет \"Привет, чем я могу тебе помочь?\"\n",
        "import telebot\n",
        "\n",
        "bot = telebot.TeleBot('')\n",
        "\n",
        "@bot.message_handler(commands=['start'])\n",
        "def send_start_text(message):\n",
        "  bot.send_message(message.from_user.id, \"Привет, чем я могу тебе помочь?\")\n",
        "\n",
        "bot.polling(none_stop=True, interval=0)\n"
      ],
      "metadata": {
        "id": "u8ffe83NF-Hg"
      },
      "execution_count": null,
      "outputs": []
    },
    {
      "cell_type": "code",
      "source": [],
      "metadata": {
        "id": "dZ1CC6xKHyYl"
      },
      "execution_count": null,
      "outputs": []
    },
    {
      "cell_type": "code",
      "source": [
        "# дополним бота командой common\n",
        "import telebot\n",
        "\n",
        "bot = telebot.TeleBot('')\n",
        "\n",
        "@bot.message_handler(commands=['start'])\n",
        "def send_start_text(message):\n",
        "  bot.send_message(message.from_user.id, \"Привет, чем я могу тебе помочь?\")\n",
        "\n",
        "@bot.message_handler(commands=['common'])\n",
        "def send_start_text(message):\n",
        "  bot.send_message(message.from_user.id, \"Как дела?\")\n",
        "\n",
        "\n",
        "bot.polling(none_stop=True, interval=0)\n"
      ],
      "metadata": {
        "id": "-jYZgqgcHybr"
      },
      "execution_count": null,
      "outputs": []
    }
  ]
}