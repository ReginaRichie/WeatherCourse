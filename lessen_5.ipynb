{
  "nbformat": 4,
  "nbformat_minor": 0,
  "metadata": {
    "colab": {
      "provenance": []
    },
    "kernelspec": {
      "name": "python3",
      "display_name": "Python 3"
    },
    "language_info": {
      "name": "python"
    }
  },
  "cells": [
    {
      "cell_type": "code",
      "source": [
        "# загрзим библиотеки\n",
        "!pip install pytelegrambotapi\n",
        "!pip install requests"
      ],
      "metadata": {
        "id": "6pnsnTT4F97s",
        "colab": {
          "base_uri": "https://localhost:8080/"
        },
        "outputId": "bb514a1b-44b1-4935-e93a-bae228ba4079"
      },
      "execution_count": 1,
      "outputs": [
        {
          "output_type": "stream",
          "name": "stdout",
          "text": [
            "Looking in indexes: https://pypi.org/simple, https://us-python.pkg.dev/colab-wheels/public/simple/\n",
            "Collecting pytelegrambotapi\n",
            "  Downloading pyTelegramBotAPI-4.11.0.tar.gz (230 kB)\n",
            "\u001b[2K     \u001b[90m━━━━━━━━━━━━━━━━━━━━━━━━━━━━━━━━━━━━━━━\u001b[0m \u001b[32m230.4/230.4 kB\u001b[0m \u001b[31m5.4 MB/s\u001b[0m eta \u001b[36m0:00:00\u001b[0m\n",
            "\u001b[?25h  Preparing metadata (setup.py) ... \u001b[?25l\u001b[?25hdone\n",
            "Requirement already satisfied: requests in /usr/local/lib/python3.10/dist-packages (from pytelegrambotapi) (2.27.1)\n",
            "Requirement already satisfied: certifi>=2017.4.17 in /usr/local/lib/python3.10/dist-packages (from requests->pytelegrambotapi) (2022.12.7)\n",
            "Requirement already satisfied: charset-normalizer~=2.0.0 in /usr/local/lib/python3.10/dist-packages (from requests->pytelegrambotapi) (2.0.12)\n",
            "Requirement already satisfied: idna<4,>=2.5 in /usr/local/lib/python3.10/dist-packages (from requests->pytelegrambotapi) (3.4)\n",
            "Requirement already satisfied: urllib3<1.27,>=1.21.1 in /usr/local/lib/python3.10/dist-packages (from requests->pytelegrambotapi) (1.26.15)\n",
            "Building wheels for collected packages: pytelegrambotapi\n",
            "  Building wheel for pytelegrambotapi (setup.py) ... \u001b[?25l\u001b[?25hdone\n",
            "  Created wheel for pytelegrambotapi: filename=pyTelegramBotAPI-4.11.0-py3-none-any.whl size=212399 sha256=836829f3760ba07e5301a700e47bdbf94692a005caa88d17d2c64cabc067758d\n",
            "  Stored in directory: /root/.cache/pip/wheels/ee/54/14/73e9f99d3a4c02df8d106566f93bd29d41ab7f3915cc13a23d\n",
            "Successfully built pytelegrambotapi\n",
            "Installing collected packages: pytelegrambotapi\n",
            "Successfully installed pytelegrambotapi-4.11.0\n",
            "Looking in indexes: https://pypi.org/simple, https://us-python.pkg.dev/colab-wheels/public/simple/\n",
            "Requirement already satisfied: requests in /usr/local/lib/python3.10/dist-packages (2.27.1)\n",
            "Requirement already satisfied: idna<4,>=2.5 in /usr/local/lib/python3.10/dist-packages (from requests) (3.4)\n",
            "Requirement already satisfied: charset-normalizer~=2.0.0 in /usr/local/lib/python3.10/dist-packages (from requests) (2.0.12)\n",
            "Requirement already satisfied: urllib3<1.27,>=1.21.1 in /usr/local/lib/python3.10/dist-packages (from requests) (1.26.15)\n",
            "Requirement already satisfied: certifi>=2017.4.17 in /usr/local/lib/python3.10/dist-packages (from requests) (2022.12.7)\n"
          ]
        }
      ]
    },
    {
      "cell_type": "code",
      "source": [
        "import requests\n",
        "def get_weather():\n",
        "  url = \"https://weatherapi-com.p.rapidapi.com/forecast.json\"\n",
        "\n",
        "  querystring = {\"q\": \"Moscow\", \"days\": \"14\"}\n",
        "\n",
        "  headers = {\n",
        "      \"X-RapidAPI-Key\": \"411d077234mshb947d578b6c66c3p12e921jsn3109f11069d4\",\n",
        "      \"X-RapidAPI-Host\": \"weatherapi-com.p.rapidapi.com\"\n",
        "  }\n",
        "\n",
        "  response = requests.get(url, headers=headers, params=querystring)\n",
        "\n",
        "  data = response.json()\n",
        "  message = f\"Город: {data['location']['name']}. Температура: {data['current']['temp_c']} C\"\n",
        "  return message\n",
        "\n"
      ],
      "metadata": {
        "id": "u8ffe83NF-Hg"
      },
      "execution_count": 2,
      "outputs": []
    },
    {
      "cell_type": "code",
      "source": [],
      "metadata": {
        "id": "dZ1CC6xKHyYl",
        "colab": {
          "base_uri": "https://localhost:8080/",
          "height": 36
        },
        "outputId": "84208985-37d0-4a5b-fa84-be35a94a49fd"
      },
      "execution_count": 3,
      "outputs": [
        {
          "output_type": "execute_result",
          "data": {
            "text/plain": [
              "'Город: Moscow. Температура: 9.0 C'"
            ],
            "application/vnd.google.colaboratory.intrinsic+json": {
              "type": "string"
            }
          },
          "metadata": {},
          "execution_count": 3
        }
      ]
    },
    {
      "cell_type": "code",
      "source": [
        "import telebot\n",
        "\n",
        "bot = telebot.TeleBot('')\n",
        "\n",
        "@bot.message_handler(commands=['start'])\n",
        "def send_start_text(message):\n",
        "  bot.send_message(message.from_user.id, \"Привет, чем я могу тебе помочь?\")\n",
        "\n",
        "@bot.message_handler(commands=['common'])\n",
        "def send_start_text(message):\n",
        "  bot.send_message(message.from_user.id, \"Как дела?\")\n",
        "\n",
        "@bot.message_handler(commands=['weather'])\n",
        "def send_start_text(message):\n",
        "  data = get_weather()\n",
        "  bot.send_message(message.from_user.id, data)\n",
        "\n",
        "\n",
        "bot.polling(none_stop=True, interval=0)\n"
      ],
      "metadata": {
        "id": "-jYZgqgcHybr"
      },
      "execution_count": null,
      "outputs": []
    }
  ]
}