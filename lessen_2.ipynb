{
  "nbformat": 4,
  "nbformat_minor": 0,
  "metadata": {
    "colab": {
      "provenance": []
    },
    "kernelspec": {
      "name": "python3",
      "display_name": "Python 3"
    },
    "language_info": {
      "name": "python"
    }
  },
  "cells": [
    {
      "cell_type": "markdown",
      "source": [
        "#### Цикл for"
      ],
      "metadata": {
        "id": "cJmMKff5zQ4w"
      }
    },
    {
      "cell_type": "code",
      "source": [
        "# создадим список и выведем построчно каждый из его элементов, умноженный на 10\n",
        "collection = [1, 2, 3, 4, 5, 6, 7, 8, 9, 10]\n",
        "n = 10\n",
        "for i in collection:\n",
        "    el = n * i\n",
        "    print(el)\n"
      ],
      "metadata": {
        "colab": {
          "base_uri": "https://localhost:8080/"
        },
        "id": "gIwltgqOzNF9",
        "outputId": "7fd8e6e4-5fc7-45dc-d12c-521cce12fdec"
      },
      "execution_count": 12,
      "outputs": [
        {
          "output_type": "stream",
          "name": "stdout",
          "text": [
            "10\n",
            "20\n",
            "30\n",
            "40\n",
            "50\n",
            "60\n",
            "70\n",
            "80\n",
            "90\n",
            "100\n"
          ]
        }
      ]
    },
    {
      "cell_type": "markdown",
      "source": [
        "### Цикл while"
      ],
      "metadata": {
        "id": "rPdzEgwfzeB_"
      }
    },
    {
      "cell_type": "code",
      "source": [
        "# будем выводить значения в цикле до тех пор, пока count меньше 5\n",
        "count = 0\n",
        "while count < 5:\n",
        "    count += 1\n",
        "    print(count)\n"
      ],
      "metadata": {
        "colab": {
          "base_uri": "https://localhost:8080/"
        },
        "id": "YuPdcBzTzNNc",
        "outputId": "2c62f555-d25c-4847-f2ad-e5a96a4a49f3"
      },
      "execution_count": 14,
      "outputs": [
        {
          "output_type": "stream",
          "name": "stdout",
          "text": [
            "1\n",
            "2\n",
            "3\n",
            "4\n",
            "5\n"
          ]
        }
      ]
    },
    {
      "cell_type": "markdown",
      "source": [
        "### Функции"
      ],
      "metadata": {
        "id": "qR8AVjnyzlDy"
      }
    },
    {
      "cell_type": "code",
      "source": [
        "# создадим функцию, которая выводит Hello!\n",
        "def func():\n",
        "    print(\"Hello!\")\n",
        "\n",
        "\n",
        "func()  # вызовем эту функцию"
      ],
      "metadata": {
        "colab": {
          "base_uri": "https://localhost:8080/"
        },
        "id": "af7Enoa_zVAp",
        "outputId": "ce3155d7-b27d-4dc9-afe6-c8c4b7c67e82"
      },
      "execution_count": 13,
      "outputs": [
        {
          "output_type": "stream",
          "name": "stdout",
          "text": [
            "Hello!\n"
          ]
        }
      ]
    },
    {
      "cell_type": "code",
      "source": [
        "# создадим функцию, которая на вход принимает значения и отдает их на выход\n",
        "def func(x):\n",
        "    return x * 2\n",
        "\n",
        "\n",
        "func(4)  # вызовем эту функцию"
      ],
      "metadata": {
        "colab": {
          "base_uri": "https://localhost:8080/"
        },
        "id": "pW6vOJSwzVFf",
        "outputId": "deed5514-9abf-4b5d-9431-75bda4a570d8"
      },
      "execution_count": 17,
      "outputs": [
        {
          "output_type": "execute_result",
          "data": {
            "text/plain": [
              "8"
            ]
          },
          "metadata": {},
          "execution_count": 17
        }
      ]
    },
    {
      "cell_type": "code",
      "source": [],
      "metadata": {
        "id": "_s76Th1OzYRY"
      },
      "execution_count": null,
      "outputs": []
    },
    {
      "cell_type": "code",
      "source": [
        "# используем функцию в связке с условным оператором\n",
        "def func(x):\n",
        "  return x + 2\n",
        "\n",
        "data = func(3)\n",
        "if data > 2:\n",
        "  print(\"Число больше двух\")\n",
        "else:\n",
        "  print(\"Число меньше двух\")\n"
      ],
      "metadata": {
        "colab": {
          "base_uri": "https://localhost:8080/"
        },
        "id": "Wf79EY_LzYT-",
        "outputId": "6ab54843-d342-4014-a674-bb35c8fab27f"
      },
      "execution_count": 16,
      "outputs": [
        {
          "output_type": "stream",
          "name": "stdout",
          "text": [
            "Число больше двух\n"
          ]
        }
      ]
    },
    {
      "cell_type": "code",
      "source": [],
      "metadata": {
        "id": "3shSqU2HzYWZ"
      },
      "execution_count": null,
      "outputs": []
    },
    {
      "cell_type": "code",
      "source": [
        "# Функции в связке с циклом:\n",
        "def test_func(a):\n",
        "  print(a + 1)\n",
        "\n",
        "def main():\n",
        "  param_list = [2, 5, 6]\n",
        "  for item in param_list:\n",
        "    test_func(item)\n",
        "    \n",
        "if __name__ == \"__main__\":\n",
        "  main()\n"
      ],
      "metadata": {
        "colab": {
          "base_uri": "https://localhost:8080/"
        },
        "id": "7_fF59JXzYYv",
        "outputId": "c03c81d7-6e0a-4977-bcc5-d700d5d4a4de"
      },
      "execution_count": 15,
      "outputs": [
        {
          "output_type": "stream",
          "name": "stdout",
          "text": [
            "3\n",
            "6\n",
            "7\n"
          ]
        }
      ]
    },
    {
      "cell_type": "code",
      "source": [],
      "metadata": {
        "id": "TDsd5-KJzbEb"
      },
      "execution_count": null,
      "outputs": []
    }
  ]
}