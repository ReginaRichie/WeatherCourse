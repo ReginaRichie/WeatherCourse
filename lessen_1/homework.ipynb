{
  "nbformat": 4,
  "nbformat_minor": 0,
  "metadata": {
    "colab": {
      "provenance": []
    },
    "kernelspec": {
      "name": "python3",
      "display_name": "Python 3"
    },
    "language_info": {
      "name": "python"
    }
  },
  "cells": [
    {
      "cell_type": "markdown",
      "source": [
        "Дано натуральное число. Требуется определить, является ли год с данным номером високосным. Если год является високосным, то выведите YES, иначе выведите NO.  Напомним, что в соответствии с григорианским календарем, год является високосным, если его номер кратен 4, но не кратен 100, а также если он кратен 400.\n",
        "Посчитайте, в какой год Вы родились\n"
      ],
      "metadata": {
        "id": "A8cs1sY_yw0S"
      }
    },
    {
      "cell_type": "code",
      "source": [
        "\n",
        "# Решение:\n",
        "my_year = 2000\n",
        "if (my_year % 4 == 0 and my_year % 100 != 0) or my_year % 400 == 0:\n",
        "    print('Високосный год')\n",
        "else:\n",
        "    print('Обычный год')\n"
      ],
      "metadata": {
        "id": "Z4MqcpB1ytrg"
      },
      "execution_count": null,
      "outputs": []
    },
    {
      "cell_type": "code",
      "source": [],
      "metadata": {
        "id": "gKSxVeuUytt3"
      },
      "execution_count": null,
      "outputs": []
    }
  ]
}